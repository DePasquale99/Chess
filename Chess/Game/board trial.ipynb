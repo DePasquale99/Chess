{
 "cells": [
  {
   "cell_type": "code",
   "execution_count": null,
   "id": "217f8326",
   "metadata": {},
   "outputs": [],
   "source": [
    "from PIL import Image \n",
    " \n",
    "  \n",
    "img = Image.open(\"pieces-3461472050.png\") \n",
    " \n",
    " \n",
    "#img.show() "
   ]
  },
  {
   "cell_type": "code",
   "execution_count": null,
   "id": "502698b4",
   "metadata": {},
   "outputs": [],
   "source": [
    "\n",
    "left = 40\n",
    "top = 60\n",
    "right = 1760\n",
    "bottom = 740\n",
    " \n",
    "  \n",
    "img_cut = img.crop((left, top, right, bottom)) \n",
    "#now the image is 1720x680\n",
    "#img_cut.show()\n",
    "\n"
   ]
  },
  {
   "cell_type": "code",
   "execution_count": 6,
   "id": "65eff59f",
   "metadata": {},
   "outputs": [],
   "source": [
    "black_img = img_cut.crop((0,0,1720,320))\n",
    "\n",
    "black_img.show()\n",
    "#now the image is 1720x320, \n",
    "\n"
   ]
  },
  {
   "cell_type": "code",
   "execution_count": null,
   "id": "40291434",
   "metadata": {},
   "outputs": [],
   "source": [
    "#I cut each piece into  320 of height and different widths\n",
    "\n",
    "black_rook = black_img.crop((0,0, 240 ,320))\n",
    "#black_rook.show()\n",
    "black_rook.save('Pieces/black_rook.png')\n",
    "\n",
    "black_bishop = black_img.crop((275,0, 555,320))\n",
    "black_bishop.save('Pieces/black_bishop.png')\n",
    "\n",
    "black_queen = black_img.crop((570,0, 860 ,320))\n",
    "black_queen.save('Pieces/black_queen.png')\n",
    "\n",
    "black_king = black_img.crop((870,0,1160 ,320))\n",
    "black_king.save('Pieces/black_king.png')\n",
    "\n",
    "\n",
    "black_knight = black_img.crop((1180,0,1450 ,320))\n",
    "black_knight.save('Pieces/black_knight.png')\n",
    "\n",
    "black_pawn = black_img.crop((1515,0, 1715,320))\n",
    "black_pawn.save('Pieces/black_pawn.png')\n"
   ]
  },
  {
   "cell_type": "code",
   "execution_count": null,
   "id": "57f7170b",
   "metadata": {},
   "outputs": [],
   "source": []
  },
  {
   "cell_type": "code",
   "execution_count": 24,
   "id": "49b99c78",
   "metadata": {},
   "outputs": [],
   "source": [
    "white_img = img_cut.crop((0,360,1720,680))\n",
    "#white_img.show()"
   ]
  },
  {
   "cell_type": "code",
   "execution_count": 25,
   "id": "806462e3",
   "metadata": {},
   "outputs": [],
   "source": [
    "\n",
    "white_rook = white_img.crop((0,0, 240 ,320))\n",
    "#white_rook.show()\n",
    "white_rook.save('Pieces/white_rook.png')\n",
    "\n",
    "white_bishop = white_img.crop((275,0, 555,320))\n",
    "white_bishop.save('Pieces/white_bishop.png')\n",
    "\n",
    "white_queen = white_img.crop((570,0, 860 ,320))\n",
    "white_queen.save('Pieces/white_queen.png')\n",
    "\n",
    "white_king = white_img.crop((870,0,1160 ,320))\n",
    "white_king.save('Pieces/white_king.png')\n",
    "\n",
    "\n",
    "white_knight = white_img.crop((1180,0,1450 ,320))\n",
    "white_knight.save('Pieces/white_knight.png')\n",
    "\n",
    "white_pawn = white_img.crop((1515,0, 1715,320))\n",
    "white_pawn.save('Pieces/white_pawn.png')"
   ]
  }
 ],
 "metadata": {
  "kernelspec": {
   "display_name": "Python 3",
   "language": "python",
   "name": "python3"
  },
  "language_info": {
   "codemirror_mode": {
    "name": "ipython",
    "version": 3
   },
   "file_extension": ".py",
   "mimetype": "text/x-python",
   "name": "python",
   "nbconvert_exporter": "python",
   "pygments_lexer": "ipython3",
   "version": "3.11.9"
  }
 },
 "nbformat": 4,
 "nbformat_minor": 5
}
